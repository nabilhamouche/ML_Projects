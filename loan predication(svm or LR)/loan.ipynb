{
 "cells": [
  {
   "cell_type": "code",
   "execution_count": 105,
   "id": "36aed8b5-a1af-42c1-8c94-a5a5a7dcc26b",
   "metadata": {},
   "outputs": [],
   "source": [
    "import numpy as np\n",
    "import pandas as pd\n",
    "from sklearn.svm import SVC\n",
    "from sklearn.linear_model import LogisticRegression\n",
    "from sklearn.model_selection import train_test_split\n",
    "from sklearn.preprocessing import StandardScaler\n",
    "from sklearn.metrics import accuracy_score,f1_score,recall_score,precision_score"
   ]
  },
  {
   "cell_type": "code",
   "execution_count": 106,
   "id": "2e11759e-dd95-4fe4-aa00-cd3d05299728",
   "metadata": {
    "scrolled": true
   },
   "outputs": [
    {
     "name": "stderr",
     "output_type": "stream",
     "text": [
      "C:\\Users\\pc\\AppData\\Local\\Temp\\ipykernel_8868\\3944930672.py:4: FutureWarning: Downcasting behavior in `replace` is deprecated and will be removed in a future version. To retain the old behavior, explicitly call `result.infer_objects(copy=False)`. To opt-in to the future behavior, set `pd.set_option('future.no_silent_downcasting', True)`\n",
      "  df.replace({\"Loan_Status\":{'N':0,'Y':1}},inplace=True)\n",
      "C:\\Users\\pc\\AppData\\Local\\Temp\\ipykernel_8868\\3944930672.py:5: FutureWarning: Downcasting behavior in `replace` is deprecated and will be removed in a future version. To retain the old behavior, explicitly call `result.infer_objects(copy=False)`. To opt-in to the future behavior, set `pd.set_option('future.no_silent_downcasting', True)`\n",
      "  df.replace({'Married':{'No':0,'Yes':1},'Gender':{'Male':1,'Female':0},'Self_Employed':{'No':0,'Yes':1},\n"
     ]
    }
   ],
   "source": [
    "df=pd.read_csv(\"train.csv\")\n",
    "df.isnull().sum()\n",
    "df=df.dropna()\n",
    "df.replace({\"Loan_Status\":{'N':0,'Y':1}},inplace=True)\n",
    "df.replace({'Married':{'No':0,'Yes':1},'Gender':{'Male':1,'Female':0},'Self_Employed':{'No':0,'Yes':1},\n",
    "                      'Property_Area':{'Rural':0,'Semiurban':1,'Urban':2},'Education':{'Graduate':1,'Not Graduate':0}},inplace=True)\n",
    "# replacing the value of 3+ to 4\n",
    "# df=df.replace(to_replace='3+', value=4)\n",
    "df.replace({\"Dependents\":{1:1,0:0,2:2,'3+':4}},inplace=True)\n",
    "x_train=df.iloc[:,1:12].values\n",
    "y_train=df.iloc[:,12].values\n",
    "x_train[:,2]=x_train[:,2].astype(int)"
   ]
  },
  {
   "cell_type": "code",
   "execution_count": 107,
   "id": "d9edc216-51f4-4e23-9404-9fe338147fe9",
   "metadata": {},
   "outputs": [],
   "source": [
    "normlize=StandardScaler()\n",
    "x_norm=normlize.fit_transform(x_train)\n",
    "x_norm,x_test,y_train,y_test=train_test_split(x_norm,y_train,test_size=0.2,random_state=41)"
   ]
  },
  {
   "cell_type": "code",
   "execution_count": 108,
   "id": "fcc8a718-0887-4956-a08b-9691d481b1f6",
   "metadata": {},
   "outputs": [
    {
     "name": "stdout",
     "output_type": "stream",
     "text": [
      "y_pred: 1 => target: 1\n",
      "y_pred: 0 => target: 0\n",
      "y_pred: 1 => target: 1\n",
      "y_pred: 1 => target: 1\n",
      "y_pred: 1 => target: 1\n",
      "y_pred: 1 => target: 1\n",
      "y_pred: 1 => target: 0\n",
      "y_pred: 1 => target: 1\n",
      "y_pred: 1 => target: 1\n",
      "y_pred: 1 => target: 1\n",
      "y_pred: 1 => target: 1\n",
      "y_pred: 1 => target: 1\n",
      "y_pred: 1 => target: 1\n",
      "y_pred: 1 => target: 0\n",
      "y_pred: 1 => target: 1\n",
      "y_pred: 1 => target: 1\n",
      "y_pred: 1 => target: 1\n",
      "y_pred: 1 => target: 1\n",
      "y_pred: 1 => target: 1\n",
      "y_pred: 1 => target: 1\n",
      "y_pred: 1 => target: 1\n",
      "y_pred: 1 => target: 0\n",
      "y_pred: 0 => target: 1\n",
      "y_pred: 1 => target: 1\n",
      "y_pred: 1 => target: 1\n",
      "y_pred: 1 => target: 1\n",
      "y_pred: 1 => target: 1\n",
      "y_pred: 1 => target: 1\n",
      "y_pred: 0 => target: 0\n",
      "y_pred: 1 => target: 1\n",
      "accuracy:86.45833333333334\n",
      "precision:0.8831168831168831\n",
      "recall:0.9444444444444444\n",
      "f1:0.912751677852349\n"
     ]
    }
   ],
   "source": [
    "# cvm_model=SVC(kernel='rbf', gamma='auto')\n",
    "# cvm_model.fit(x_norm,y_train)\n",
    "# y_pred=cvm_model.predict(x_test)\n",
    "model =LogisticRegression()\n",
    "model.fit(x_norm,y_train)\n",
    "y_pred=model.predict(x_test)\n",
    "for i in range(30):\n",
    "    print(\"y_pred:\",y_pred[i],\"=> target:\",y_test[i])\n",
    "accuracy=accuracy_score(y_test,y_pred)\n",
    "precision=precision_score(y_test,y_pred)\n",
    "recall=recall_score(y_test,y_pred)\n",
    "f1=f1_score(y_test,y_pred)\n",
    "print(f\"accuracy:{accuracy*100}\")\n",
    "print(f\"precision:{precision}\")\n",
    "print(f\"recall:{recall}\")\n",
    "print(f\"f1:{f1}\")"
   ]
  },
  {
   "cell_type": "code",
   "execution_count": 109,
   "id": "ba32361b-54d1-4e41-aba2-25a0c3951d9d",
   "metadata": {},
   "outputs": [],
   "source": [
    "# svm\n",
    "# accuracy:85.41666666666666\n",
    "# precision:0.881578947368421\n",
    "# recall:0.9305555555555556\n",
    "# f1:0.9054054054054054\n",
    "# rl\n",
    "# accuracy:86.45833333333334\n",
    "# precision:0.8831168831168831\n",
    "# recall:0.9444444444444444\n",
    "# f1:0.912751677852349"
   ]
  }
 ],
 "metadata": {
  "kernelspec": {
   "display_name": "Python 3 (ipykernel)",
   "language": "python",
   "name": "python3"
  },
  "language_info": {
   "codemirror_mode": {
    "name": "ipython",
    "version": 3
   },
   "file_extension": ".py",
   "mimetype": "text/x-python",
   "name": "python",
   "nbconvert_exporter": "python",
   "pygments_lexer": "ipython3",
   "version": "3.12.4"
  }
 },
 "nbformat": 4,
 "nbformat_minor": 5
}
