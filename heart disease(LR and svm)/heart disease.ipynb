{
 "cells": [
  {
   "cell_type": "code",
   "execution_count": 6,
   "id": "31dbce7c-2b79-40b1-ac79-e4a47a0e607f",
   "metadata": {},
   "outputs": [],
   "source": [
    "import numpy as np\n",
    "import pandas as pd\n",
    "from sklearn.linear_model import LogisticRegression\n",
    "from sklearn.preprocessing import StandardScaler\n",
    "from sklearn.model_selection import train_test_split\n",
    "from sklearn.metrics import accuracy_score,f1_score,recall_score,precision_score\n",
    "from sklearn.svm import SVC"
   ]
  },
  {
   "cell_type": "code",
   "execution_count": 7,
   "id": "13e6a76c-f600-47d5-ac9c-492ea6356db7",
   "metadata": {},
   "outputs": [],
   "source": [
    "df=pd.read_csv(\"heart_disease_data.csv\")\n",
    "x_train=df.drop([\"target\"],axis=1).values\n",
    "y_train=df[\"target\"]"
   ]
  },
  {
   "cell_type": "code",
   "execution_count": 8,
   "id": "4bc87535-54f2-4e65-bb2f-86ae9d32011f",
   "metadata": {},
   "outputs": [],
   "source": [
    "# normlize and splitting data\n",
    "normlize=StandardScaler()\n",
    "x_norm=normlize.fit_transform(x_train)\n",
    "x_norm,x_test,y_train,y_test=train_test_split(x_norm,y_train,test_size=0.2,random_state=1)"
   ]
  },
  {
   "cell_type": "code",
   "execution_count": 9,
   "id": "5ebeed65-9914-47bd-bc26-26dd846edb52",
   "metadata": {},
   "outputs": [
    {
     "name": "stdout",
     "output_type": "stream",
     "text": [
      "CVM\n",
      "accuracy:75.40983606557377\n",
      "precision:0.7222222222222222\n",
      "recall:0.8387096774193549\n",
      "f1:0.7761194029850746\n",
      "logistic regression\n",
      "accuracy:73.77049180327869\n",
      "precision:0.7142857142857143\n",
      "recall:0.8064516129032258\n",
      "f1:0.7575757575757576\n"
     ]
    }
   ],
   "source": [
    "# CVM\n",
    "print(\"CVM\")\n",
    "cvm_model=SVC(kernel='rbf', gamma='auto')\n",
    "cvm_model.fit(x_norm,y_train)\n",
    "y_pred=cvm_model.predict(x_test)\n",
    "# for i in range(30):\n",
    "#     print(f\"y_pred:,{y_pred[i]}=> target:{y_test[i]}\")\n",
    "accuracy=accuracy_score(y_test,y_pred)\n",
    "precision=precision_score(y_test,y_pred)\n",
    "recall=recall_score(y_test,y_pred)\n",
    "f1=f1_score(y_test,y_pred)\n",
    "print(f\"accuracy:{accuracy*100}\")\n",
    "print(f\"precision:{precision}\")\n",
    "print(f\"recall:{recall}\")\n",
    "print(f\"f1:{f1}\")\n",
    "\n",
    "\n",
    "# logistic regression\n",
    "print(\"logistic regression\")\n",
    "model=LogisticRegression()\n",
    "model.fit(x_norm,y_train)\n",
    "y_pred=model.predict(x_test)\n",
    "# for i in range(30):\n",
    "#     print(f\"y_pred:,{y_pred[i]}=> target:{y_test[i]}\")\n",
    "accuracy=accuracy_score(y_test,y_pred)\n",
    "precision=precision_score(y_test,y_pred)\n",
    "recall=recall_score(y_test,y_pred)\n",
    "f1=f1_score(y_test,y_pred)\n",
    "print(f\"accuracy:{accuracy*100}\")\n",
    "print(f\"precision:{precision}\")\n",
    "print(f\"recall:{recall}\")\n",
    "print(f\"f1:{f1}\")"
   ]
  },
  {
   "cell_type": "code",
   "execution_count": 10,
   "id": "26b1815a-47fd-404f-ab70-dda92a1dcb6c",
   "metadata": {},
   "outputs": [
    {
     "name": "stdout",
     "output_type": "stream",
     "text": [
      "[0]\n",
      "The Person does not have a Heart Disease\n"
     ]
    }
   ],
   "source": [
    "input_data = (62,0,0,140,268,0,0,160,0,3.6,0,2,2)\n",
    "\n",
    "# change the input data to a numpy array\n",
    "input_data_as_numpy_array= np.asarray(input_data)\n",
    "\n",
    "# reshape the numpy array as we are predicting for only on instance\n",
    "input_data_reshaped = input_data_as_numpy_array.reshape(1,-1)\n",
    "\n",
    "prediction = model.predict(input_data_reshaped)\n",
    "print(prediction)\n",
    "\n",
    "if (prediction[0]== 0):\n",
    "  print('The Person does not have a Heart Disease')\n",
    "else:\n",
    "  print('The Person has Heart Disease')"
   ]
  }
 ],
 "metadata": {
  "kernelspec": {
   "display_name": "Python 3 (ipykernel)",
   "language": "python",
   "name": "python3"
  },
  "language_info": {
   "codemirror_mode": {
    "name": "ipython",
    "version": 3
   },
   "file_extension": ".py",
   "mimetype": "text/x-python",
   "name": "python",
   "nbconvert_exporter": "python",
   "pygments_lexer": "ipython3",
   "version": "3.12.4"
  }
 },
 "nbformat": 4,
 "nbformat_minor": 5
}
