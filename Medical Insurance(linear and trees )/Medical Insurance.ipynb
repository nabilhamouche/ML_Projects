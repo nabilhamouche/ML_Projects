{
 "cells": [
  {
   "cell_type": "code",
   "execution_count": 1,
   "id": "24694540-f3ca-4590-9239-e943a115e1f7",
   "metadata": {},
   "outputs": [],
   "source": [
    "import numpy as np\n",
    "import pandas as pd\n",
    "import matplotlib.pyplot as plt\n",
    "import seaborn as sns\n",
    "from sklearn.preprocessing import StandardScaler,PolynomialFeatures\n",
    "from sklearn.linear_model import LinearRegression\n",
    "from sklearn.model_selection import train_test_split\n",
    "from sklearn.metrics import mean_squared_error,r2_score"
   ]
  },
  {
   "cell_type": "code",
   "execution_count": 2,
   "id": "7a851d76-e574-4119-977b-de229269fadc",
   "metadata": {},
   "outputs": [
    {
     "data": {
      "text/html": [
       "<div>\n",
       "<style scoped>\n",
       "    .dataframe tbody tr th:only-of-type {\n",
       "        vertical-align: middle;\n",
       "    }\n",
       "\n",
       "    .dataframe tbody tr th {\n",
       "        vertical-align: top;\n",
       "    }\n",
       "\n",
       "    .dataframe thead th {\n",
       "        text-align: right;\n",
       "    }\n",
       "</style>\n",
       "<table border=\"1\" class=\"dataframe\">\n",
       "  <thead>\n",
       "    <tr style=\"text-align: right;\">\n",
       "      <th></th>\n",
       "      <th>age</th>\n",
       "      <th>bmi</th>\n",
       "      <th>children</th>\n",
       "      <th>charges</th>\n",
       "    </tr>\n",
       "  </thead>\n",
       "  <tbody>\n",
       "    <tr>\n",
       "      <th>count</th>\n",
       "      <td>1338.000000</td>\n",
       "      <td>1338.000000</td>\n",
       "      <td>1338.000000</td>\n",
       "      <td>1338.000000</td>\n",
       "    </tr>\n",
       "    <tr>\n",
       "      <th>mean</th>\n",
       "      <td>39.207025</td>\n",
       "      <td>30.663397</td>\n",
       "      <td>1.094918</td>\n",
       "      <td>13270.422265</td>\n",
       "    </tr>\n",
       "    <tr>\n",
       "      <th>std</th>\n",
       "      <td>14.049960</td>\n",
       "      <td>6.098187</td>\n",
       "      <td>1.205493</td>\n",
       "      <td>12110.011237</td>\n",
       "    </tr>\n",
       "    <tr>\n",
       "      <th>min</th>\n",
       "      <td>18.000000</td>\n",
       "      <td>15.960000</td>\n",
       "      <td>0.000000</td>\n",
       "      <td>1121.873900</td>\n",
       "    </tr>\n",
       "    <tr>\n",
       "      <th>25%</th>\n",
       "      <td>27.000000</td>\n",
       "      <td>26.296250</td>\n",
       "      <td>0.000000</td>\n",
       "      <td>4740.287150</td>\n",
       "    </tr>\n",
       "    <tr>\n",
       "      <th>50%</th>\n",
       "      <td>39.000000</td>\n",
       "      <td>30.400000</td>\n",
       "      <td>1.000000</td>\n",
       "      <td>9382.033000</td>\n",
       "    </tr>\n",
       "    <tr>\n",
       "      <th>75%</th>\n",
       "      <td>51.000000</td>\n",
       "      <td>34.693750</td>\n",
       "      <td>2.000000</td>\n",
       "      <td>16639.912515</td>\n",
       "    </tr>\n",
       "    <tr>\n",
       "      <th>max</th>\n",
       "      <td>64.000000</td>\n",
       "      <td>53.130000</td>\n",
       "      <td>5.000000</td>\n",
       "      <td>63770.428010</td>\n",
       "    </tr>\n",
       "  </tbody>\n",
       "</table>\n",
       "</div>"
      ],
      "text/plain": [
       "               age          bmi     children       charges\n",
       "count  1338.000000  1338.000000  1338.000000   1338.000000\n",
       "mean     39.207025    30.663397     1.094918  13270.422265\n",
       "std      14.049960     6.098187     1.205493  12110.011237\n",
       "min      18.000000    15.960000     0.000000   1121.873900\n",
       "25%      27.000000    26.296250     0.000000   4740.287150\n",
       "50%      39.000000    30.400000     1.000000   9382.033000\n",
       "75%      51.000000    34.693750     2.000000  16639.912515\n",
       "max      64.000000    53.130000     5.000000  63770.428010"
      ]
     },
     "execution_count": 2,
     "metadata": {},
     "output_type": "execute_result"
    }
   ],
   "source": [
    "df=pd.read_csv(\"insurance.csv\")\n",
    "df.describe()"
   ]
  },
  {
   "cell_type": "code",
   "execution_count": 3,
   "id": "699972a8-bc07-4146-8ad1-6374fbd3cc43",
   "metadata": {},
   "outputs": [
    {
     "name": "stderr",
     "output_type": "stream",
     "text": [
      "C:\\Users\\pc\\AppData\\Local\\Temp\\ipykernel_16132\\3991160951.py:2: FutureWarning: Downcasting behavior in `replace` is deprecated and will be removed in a future version. To retain the old behavior, explicitly call `result.infer_objects(copy=False)`. To opt-in to the future behavior, set `pd.set_option('future.no_silent_downcasting', True)`\n",
      "  df.replace({'sex':{'male':0,'female':1}}, inplace=True)\n",
      "C:\\Users\\pc\\AppData\\Local\\Temp\\ipykernel_16132\\3991160951.py:4: FutureWarning: Downcasting behavior in `replace` is deprecated and will be removed in a future version. To retain the old behavior, explicitly call `result.infer_objects(copy=False)`. To opt-in to the future behavior, set `pd.set_option('future.no_silent_downcasting', True)`\n",
      "  df.replace({'smoker':{'yes':0,'no':1}}, inplace=True)\n",
      "C:\\Users\\pc\\AppData\\Local\\Temp\\ipykernel_16132\\3991160951.py:6: FutureWarning: Downcasting behavior in `replace` is deprecated and will be removed in a future version. To retain the old behavior, explicitly call `result.infer_objects(copy=False)`. To opt-in to the future behavior, set `pd.set_option('future.no_silent_downcasting', True)`\n",
      "  df.replace({'region':{'southeast':0,'southwest':1,'northeast':2,'northwest':3}}, inplace=True)\n"
     ]
    },
    {
     "data": {
      "text/plain": [
       "<Axes: >"
      ]
     },
     "execution_count": 3,
     "metadata": {},
     "output_type": "execute_result"
    },
    {
     "data": {
      "image/png": "[encoded data removed]",
      "text/plain": [
       "<Figure size 600x600 with 2 Axes>"
      ]
     },
     "metadata": {},
     "output_type": "display_data"
    }
   ],
   "source": [
    "\n",
    "# encoding sex column\n",
    "df.replace({'sex':{'male':0,'female':1}}, inplace=True)\n",
    "3 # encoding 'smoker' column\n",
    "df.replace({'smoker':{'yes':0,'no':1}}, inplace=True)\n",
    "# encoding 'region' column\n",
    "df.replace({'region':{'southeast':0,'southwest':1,'northeast':2,'northwest':3}}, inplace=True)\n",
    "\n",
    "correlation=df.corr()\n",
    "plt.figure(figsize=(6,6))\n",
    "sns.heatmap(correlation, cbar=True, square=True, fmt='.1f',annot=True, annot_kws={'size':8}, cmap='Blues')"
   ]
  },
  {
   "cell_type": "code",
   "execution_count": 4,
   "id": "2d461971-e403-4f23-befc-43d59529c4f2",
   "metadata": {},
   "outputs": [],
   "source": [
    "x_train=df.drop([\"charges\"],axis=1).values\n",
    "y_train=df[\"charges\"].values"
   ]
  },
  {
   "cell_type": "code",
   "execution_count": 5,
   "id": "aa68ffe1-67f8-433a-8045-d6fc2e5d55de",
   "metadata": {},
   "outputs": [
    {
     "name": "stdout",
     "output_type": "stream",
     "text": [
      "(1070, 6)\n"
     ]
    }
   ],
   "source": [
    "x_norm=StandardScaler().fit_transform(x_train)\n",
    "x_norm,x_test,y_train,y_test=train_test_split(x_train,y_train,test_size=0.2,random_state=41)\n",
    "print(x_norm.shape)"
   ]
  },
  {
   "cell_type": "code",
   "execution_count": 6,
   "id": "5d3af503-0ba9-4174-a1c9-0f2d1ed71fc3",
   "metadata": {},
   "outputs": [
    {
     "name": "stdout",
     "output_type": "stream",
     "text": [
      "3\n",
      "[18478396.0604679  11241173.18618122 10548909.62836881  9480598.10944329\n",
      "  7905586.49640738  5777859.31528887  3610526.66604817  3670510.9079703\n",
      "  1712053.031851  ]\n",
      "[1.77158179e+07 1.18233115e+07 1.17830251e+07 1.53492073e+07\n",
      " 2.29583663e+07 7.63272801e+11 4.88135296e+12 1.19522626e+13\n",
      " 1.92259018e+14]\n"
     ]
    }
   ],
   "source": [
    "max_dgree=9\n",
    "err_cv=np.zeros(max_dgree)\n",
    "err_train=np.zeros(max_dgree)\n",
    "for i in range(max_dgree):\n",
    "    pol=PolynomialFeatures(i+1,include_bias=False)\n",
    "    # normlize data training\n",
    "    x_pol=pol.fit_transform(x_norm)\n",
    "    # normlize data cv\n",
    "    x_p=pol.fit_transform(x_test)\n",
    "    # train model \n",
    "    model=LinearRegression()\n",
    "    model.fit(x_pol,y_train)\n",
    "    # prediction \n",
    "    y_hat_cv=model.predict(x_p)\n",
    "    y_hat=model.predict(x_pol)\n",
    "    err_cv[i]=mean_squared_error(y_test,y_hat_cv)/2\n",
    "    err_train[i]=mean_squared_error(y_train,y_hat)/2\n",
    "optimal_degree=np.argmin(err_cv)+1\n",
    "print(optimal_degree)\n",
    "print(err_train)\n",
    "print(err_cv)"
   ]
  },
  {
   "cell_type": "code",
   "execution_count": 7,
   "id": "be660898-87d9-4130-9b7b-d5f44277dfad",
   "metadata": {},
   "outputs": [
    {
     "name": "stdout",
     "output_type": "stream",
     "text": [
      "R squared Error :  79.03816366139618\n",
      "5728.264229476354 => 4076.497\n",
      "12381.632111779076 => 12224.35085\n",
      "5601.932400498938 => 3857.75925\n",
      "6844.88377335057 => 6571.02435\n",
      "3706.3431021392425 => 2927.0647\n",
      "11218.879684503368 => 9290.1395\n",
      "37160.87175410817 => 36397.576\n",
      "12788.410159311887 => 26467.09737\n",
      "8483.998888621038 => 6940.90985\n",
      "6855.9655081622495 => 3443.064\n",
      "30608.578902737983 => 36021.0112\n",
      "13318.83515085969 => 11512.405\n",
      "3210.6613532842075 => 3353.4703\n",
      "31306.953912918634 => 34838.873\n",
      "2112.281566057809 => 2026.9741\n",
      "11478.763715670306 => 9140.951\n",
      "14232.507054390095 => 13822.803\n",
      "7023.778981895059 => 5630.45785\n",
      "15556.902345936625 => 13112.6048\n",
      "24282.41120714068 => 24873.3849\n"
     ]
    }
   ],
   "source": [
    "pol=PolynomialFeatures(optimal_degree,include_bias=False)\n",
    "x_train=pol.fit_transform(x_norm)\n",
    "x_test=pol.fit_transform(x_test)\n",
    "model=LinearRegression()\n",
    "model.fit(x_train,y_train)\n",
    "y_pred=model.predict(x_test)\n",
    "error_score =r2_score(y_test, y_pred)\n",
    "print(\"R squared Error : \", error_score*100)\n",
    "for i in range(20):\n",
    "    print(y_pred[i],\"=>\",y_test[i])"
   ]
  },
  {
   "cell_type": "code",
   "execution_count": 8,
   "id": "c2b9b39b-33a4-4ff6-acb8-ea3fdcbf2229",
   "metadata": {},
   "outputs": [
    {
     "name": "stdout",
     "output_type": "stream",
     "text": [
      "(6,)\n",
      "[3147.48516922]\n",
      "The insurance cost is USD  3147.4851692169686\n"
     ]
    }
   ],
   "source": [
    "input_data = (31,1,25.74,0,1,0)\n",
    "\n",
    "# changing input_data to a numpy array\n",
    "input_data_as_numpy_array = np.asarray(input_data)\n",
    "print(input_data_as_numpy_array.shape)\n",
    "# reshape the array\n",
    "input_data_reshaped = input_data_as_numpy_array.reshape(1,-1)\n",
    "input_data_reshaped=pol.fit_transform(input_data_reshaped)\n",
    "prediction = model.predict(input_data_reshaped)\n",
    "print(prediction)\n",
    "\n",
    "print('The insurance cost is USD ', prediction[0])"
   ]
  }
 ],
 "metadata": {
  "kernelspec": {
   "display_name": "Python 3 (ipykernel)",
   "language": "python",
   "name": "python3"
  },
  "language_info": {
   "codemirror_mode": {
    "name": "ipython",
    "version": 3
   },
   "file_extension": ".py",
   "mimetype": "text/x-python",
   "name": "python",
   "nbconvert_exporter": "python",
   "pygments_lexer": "ipython3",
   "version": "3.12.4"
  }
 },
 "nbformat": 4,
 "nbformat_minor": 5
}
