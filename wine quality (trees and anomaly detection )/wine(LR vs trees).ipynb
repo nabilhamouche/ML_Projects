{
 "cells": [
  {
   "cell_type": "code",
   "execution_count": 13,
   "id": "6a0ae407-97a7-4cd9-9e61-0dd43aefd392",
   "metadata": {},
   "outputs": [],
   "source": [
    "import numpy as np\n",
    "import pandas as pd\n",
    "from sklearn.model_selection import train_test_split\n",
    "from sklearn.preprocessing import StandardScaler\n",
    "from sklearn.metrics import accuracy_score,f1_score,recall_score,precision_score\n",
    "from sklearn.ensemble import RandomForestClassifier\n",
    "from xgboost import XGBClassifier"
   ]
  },
  {
   "cell_type": "code",
   "execution_count": 14,
   "id": "cf469294-0c0a-4cf8-9856-41a578350cb7",
   "metadata": {},
   "outputs": [],
   "source": [
    "df=pd.read_csv('winequality-red.csv')\n",
    "x_train=df.iloc[:,0:11].values\n",
    "y_train=df.iloc[:,11].values\n",
    "y_train=np.where(y_train>6,1,0)\n",
    "x_norm,x_test,y_train,y_test=train_test_split(x_train,y_train,test_size=0.2,random_state=41)"
   ]
  },
  {
   "cell_type": "code",
   "execution_count": 15,
   "id": "ad9dd23a-6955-4e97-acb1-d665b1fabeda",
   "metadata": {},
   "outputs": [
    {
     "name": "stdout",
     "output_type": "stream",
     "text": [
      "Random Forest Accuracy: 0.9375\n",
      "Random Forest f1_score: 0.75\n",
      "y_pred: 0 => target: 0\n",
      "y_pred: 0 => target: 0\n",
      "y_pred: 1 => target: 1\n",
      "y_pred: 0 => target: 0\n",
      "y_pred: 0 => target: 0\n",
      "y_pred: 0 => target: 0\n",
      "y_pred: 0 => target: 0\n",
      "y_pred: 0 => target: 1\n",
      "y_pred: 0 => target: 0\n",
      "y_pred: 0 => target: 1\n",
      "y_pred: 0 => target: 0\n",
      "y_pred: 0 => target: 0\n",
      "y_pred: 0 => target: 0\n",
      "y_pred: 0 => target: 0\n",
      "y_pred: 0 => target: 0\n",
      "y_pred: 0 => target: 0\n",
      "y_pred: 0 => target: 0\n",
      "y_pred: 0 => target: 0\n",
      "y_pred: 0 => target: 0\n",
      "y_pred: 0 => target: 0\n",
      "XGBoost Accuracy: 0.925\n",
      "XGBoost f1_score: 0.7209302325581395\n",
      "y_pred: 0 => target: 0\n",
      "y_pred: 0 => target: 0\n",
      "y_pred: 1 => target: 1\n",
      "y_pred: 1 => target: 0\n",
      "y_pred: 0 => target: 0\n",
      "y_pred: 0 => target: 0\n",
      "y_pred: 0 => target: 0\n",
      "y_pred: 0 => target: 1\n",
      "y_pred: 0 => target: 0\n",
      "y_pred: 0 => target: 1\n",
      "y_pred: 0 => target: 0\n",
      "y_pred: 0 => target: 0\n",
      "y_pred: 0 => target: 0\n",
      "y_pred: 1 => target: 0\n",
      "y_pred: 0 => target: 0\n",
      "y_pred: 0 => target: 0\n",
      "y_pred: 0 => target: 0\n",
      "y_pred: 0 => target: 0\n",
      "y_pred: 0 => target: 0\n",
      "y_pred: 0 => target: 0\n",
      "y_pred: 0 => target: 0\n",
      "y_pred: 0 => target: 0\n",
      "y_pred: 0 => target: 0\n",
      "y_pred: 1 => target: 1\n",
      "y_pred: 0 => target: 0\n",
      "y_pred: 1 => target: 1\n",
      "y_pred: 0 => target: 0\n",
      "y_pred: 1 => target: 1\n",
      "y_pred: 1 => target: 0\n",
      "y_pred: 0 => target: 0\n"
     ]
    }
   ],
   "source": [
    "# Random Forest\n",
    "rf = RandomForestClassifier(n_estimators=100, random_state=42)\n",
    "rf.fit(x_norm, y_train)\n",
    "y_pred_rf = rf.predict(x_test)\n",
    "print(\"Random Forest Accuracy:\", accuracy_score(y_test, y_pred_rf))\n",
    "print(\"Random Forest f1_score:\", f1_score(y_test, y_pred_rf))\n",
    "for i in range(20):\n",
    "    print(\"y_pred:\",y_pred_rf[i],\"=> target:\",y_test[i])\n",
    "# XGBoost\n",
    "xgb = XGBClassifier(\n",
    "    n_estimators=100, learning_rate=0.1, max_depth=5, random_state=42\n",
    ")\n",
    "xgb.fit(x_norm, y_train)\n",
    "y_pred_xgb = xgb.predict(x_test)\n",
    "print(\"XGBoost Accuracy:\", accuracy_score(y_test, y_pred_xgb))\n",
    "print(\"XGBoost f1_score:\", f1_score(y_test, y_pred_xgb))\n",
    "for i in range(30):\n",
    "    print(\"y_pred:\",y_pred_xgb[i],\"=> target:\",y_test[i])"
   ]
  }
 ],
 "metadata": {
  "kernelspec": {
   "display_name": "Python 3 (ipykernel)",
   "language": "python",
   "name": "python3"
  },
  "language_info": {
   "codemirror_mode": {
    "name": "ipython",
    "version": 3
   },
   "file_extension": ".py",
   "mimetype": "text/x-python",
   "name": "python",
   "nbconvert_exporter": "python",
   "pygments_lexer": "ipython3",
   "version": "3.12.4"
  }
 },
 "nbformat": 4,
 "nbformat_minor": 5
}
