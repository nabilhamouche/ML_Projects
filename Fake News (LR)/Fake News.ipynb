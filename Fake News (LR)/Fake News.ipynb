{
 "cells": [
  {
   "cell_type": "code",
   "execution_count": 129,
   "id": "cfc1218f-d4d9-427a-8ef9-778cbd5f425e",
   "metadata": {},
   "outputs": [],
   "source": [
    "import numpy as np\n",
    "import pandas as pd\n",
    "from sklearn.linear_model import LogisticRegression\n",
    "from sklearn.preprocessing import StandardScaler\n",
    "from sklearn.model_selection import train_test_split\n",
    "from sklearn.metrics import f1_score,accuracy_score,recall_score,precision_score\n",
    "from sklearn.feature_extraction.text import TfidfVectorizer\n",
    "\n",
    "import re\n",
    "from nltk.corpus import stopwords\n",
    "from nltk.stem.porter import PorterStemmer\n",
    "\n",
    "import nltk\n",
    "# nltk.download('stopwords')"
   ]
  },
  {
   "cell_type": "code",
   "execution_count": 130,
   "id": "de056549-0f7e-4487-ab72-eb03dc2908b0",
   "metadata": {},
   "outputs": [],
   "source": [
    "# printing the stopwords in English\n",
    "# print(stopwords.words('english'))"
   ]
  },
  {
   "cell_type": "code",
   "execution_count": 131,
   "id": "6ccf1d92-a0b9-4239-89e2-7564c57df348",
   "metadata": {},
   "outputs": [],
   "source": [
    "df = pd.read_csv('./train.csv')\n",
    "df.isnull().count()\n",
    "# replacing the null values with empty string\n",
    "df = df.fillna('')"
   ]
  },
  {
   "cell_type": "code",
   "execution_count": 132,
   "id": "ba9ada9b-ce81-44b9-9623-a54ed93e34d9",
   "metadata": {},
   "outputs": [],
   "source": [
    "df['content']=df['author']+' '+df['title']\n",
    "# separating the data & label\n",
    "X = df.drop(columns='label', axis=1)\n",
    "Y = df['label']"
   ]
  },
  {
   "cell_type": "code",
   "execution_count": 133,
   "id": "7adb7f2b-ae44-489b-80ca-0f2534f1d2ef",
   "metadata": {},
   "outputs": [],
   "source": [
    "#Stemming is the process of reducing a word to its Root word\n",
    "prot_stem=PorterStemmer()"
   ]
  },
  {
   "cell_type": "code",
   "execution_count": 134,
   "id": "25fbc656-ff1f-4909-b6bb-feb051308cab",
   "metadata": {},
   "outputs": [],
   "source": [
    "def stemming(content):\n",
    "    stemmed_content = re.sub('[^a-zA-Z]',' ',content)\n",
    "    stemmed_content = stemmed_content.lower()\n",
    "    stemmed_content = stemmed_content.split()\n",
    "    stemmed_content = [PorterStemmer().stem(word) for word in stemmed_content if not word in stopwords.words('english')]\n",
    "    stemmed_content = ' '.join(stemmed_content)\n",
    "    return stemmed_content"
   ]
  },
  {
   "cell_type": "code",
   "execution_count": 135,
   "id": "2170002a-355a-4ea6-b560-d5fed1e46598",
   "metadata": {},
   "outputs": [
    {
     "name": "stdout",
     "output_type": "stream",
     "text": [
      "0        darrel lucu hous dem aid even see comey letter...\n",
      "1        daniel j flynn flynn hillari clinton big woman...\n",
      "2                   consortiumnew com truth might get fire\n",
      "3        jessica purkiss civilian kill singl us airstri...\n",
      "4        howard portnoy iranian woman jail fiction unpu...\n",
      "                               ...                        \n",
      "20795    jerom hudson rapper trump poster child white s...\n",
      "20796    benjamin hoffman n f l playoff schedul matchup...\n",
      "20797    michael j de la merc rachel abram maci said re...\n",
      "20798    alex ansari nato russia hold parallel exercis ...\n",
      "20799                            david swanson keep f aliv\n",
      "Name: content, Length: 20800, dtype: object\n"
     ]
    }
   ],
   "source": [
    "df['content']=df['content'].apply(stemming)\n",
    "print(df['content'])"
   ]
  },
  {
   "cell_type": "code",
   "execution_count": 136,
   "id": "18a4f147-5f87-4c49-a35a-99f12749fd40",
   "metadata": {},
   "outputs": [],
   "source": [
    "x_train=df['content'].values\n",
    "y_trian=df['label'].values"
   ]
  },
  {
   "cell_type": "code",
   "execution_count": 137,
   "id": "3aa3d2d4-7e11-4b88-abc6-5dbbf7e14c48",
   "metadata": {},
   "outputs": [
    {
     "name": "stdout",
     "output_type": "stream",
     "text": [
      "[[0. 0. 0. ... 0. 0. 0.]\n",
      " [0. 0. 0. ... 0. 0. 0.]\n",
      " [0. 0. 0. ... 0. 0. 0.]\n",
      " ...\n",
      " [0. 0. 0. ... 0. 0. 0.]\n",
      " [0. 0. 0. ... 0. 0. 0.]\n",
      " [0. 0. 0. ... 0. 0. 0.]]\n",
      "tweet\n"
     ]
    }
   ],
   "source": [
    "# converting the textual data to numerical data\n",
    "vectorizer=TfidfVectorizer()\n",
    "vectorizer.fit(x_train)\n",
    "x_train=vectorizer.transform(x_train)\n",
    "words = vectorizer.get_feature_names_out()\n",
    "dense_matrix = x_train.toarray()\n",
    "print(dense_matrix)\n",
    "print(words[15686])"
   ]
  },
  {
   "cell_type": "code",
   "execution_count": 138,
   "id": "ba9bbf5a-8566-4ce7-8582-9e19614d8e3b",
   "metadata": {},
   "outputs": [],
   "source": [
    "x_train, x_test, y_train, y_test = train_test_split(x_train, y_trian, test_size = 0.2, stratify=Y, random_state=2)"
   ]
  },
  {
   "cell_type": "code",
   "execution_count": 139,
   "id": "b22a4dd0-5ad0-48ae-b656-a340026c1ddc",
   "metadata": {},
   "outputs": [
    {
     "name": "stdout",
     "output_type": "stream",
     "text": [
      "y_pred: 1 => target: 1\n",
      "y_pred: 0 => target: 0\n",
      "y_pred: 1 => target: 1\n",
      "y_pred: 0 => target: 0\n",
      "y_pred: 0 => target: 0\n",
      "y_pred: 1 => target: 1\n",
      "y_pred: 0 => target: 0\n",
      "y_pred: 1 => target: 0\n",
      "y_pred: 1 => target: 1\n",
      "y_pred: 1 => target: 1\n",
      "accuracy:0.9790865384615385\n",
      "precision:0.9659197012138189\n",
      "recall:0.9932789246279404\n",
      "f1:0.9794082840236686\n"
     ]
    }
   ],
   "source": [
    "model =LogisticRegression()\n",
    "model.fit(x_train,y_train)\n",
    "y_pred=model.predict(x_test)\n",
    "for i in range(10):\n",
    "    print(\"y_pred:\",y_pred[i],\"=> target:\",y_test[i])\n",
    "accuracy=accuracy_score(y_test,y_pred)\n",
    "precision=precision_score(y_test,y_pred)\n",
    "recall=recall_score(y_test,y_pred)\n",
    "f1=f1_score(y_test,y_pred)\n",
    "print(f\"accuracy:{accuracy}\")\n",
    "print(f\"precision:{precision}\")\n",
    "print(f\"recall:{recall}\")\n",
    "print(f\"f1:{f1}\")"
   ]
  }
 ],
 "metadata": {
  "kernelspec": {
   "display_name": "Python 3 (ipykernel)",
   "language": "python",
   "name": "python3"
  },
  "language_info": {
   "codemirror_mode": {
    "name": "ipython",
    "version": 3
   },
   "file_extension": ".py",
   "mimetype": "text/x-python",
   "name": "python",
   "nbconvert_exporter": "python",
   "pygments_lexer": "ipython3",
   "version": "3.12.4"
  }
 },
 "nbformat": 4,
 "nbformat_minor": 5
}
