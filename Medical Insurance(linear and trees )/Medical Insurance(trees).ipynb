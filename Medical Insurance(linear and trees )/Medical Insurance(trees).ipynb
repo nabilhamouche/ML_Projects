{
 "cells": [
  {
   "cell_type": "code",
   "execution_count": 10,
   "id": "a9576010-5aa4-486b-9797-85b6f8e0b2a1",
   "metadata": {},
   "outputs": [],
   "source": [
    "import numpy as np\n",
    "import pandas as pd\n",
    "import matplotlib.pyplot as plt\n",
    "from sklearn.linear_model import LinearRegression\n",
    "import seaborn as sns\n",
    "from sklearn.model_selection import train_test_split\n",
    "from sklearn.preprocessing import StandardScaler,PolynomialFeatures\n",
    "from sklearn.metrics import mean_squared_error,r2_score\n",
    "from xgboost import XGBRegressor\n",
    "from sklearn.ensemble import RandomForestRegressor"
   ]
  },
  {
   "cell_type": "code",
   "execution_count": 11,
   "id": "efb7faab-9776-400a-8680-7d8801830b8e",
   "metadata": {},
   "outputs": [
    {
     "name": "stderr",
     "output_type": "stream",
     "text": [
      "C:\\Users\\pc\\AppData\\Local\\Temp\\ipykernel_10924\\1825765182.py:3: FutureWarning: Downcasting behavior in `replace` is deprecated and will be removed in a future version. To retain the old behavior, explicitly call `result.infer_objects(copy=False)`. To opt-in to the future behavior, set `pd.set_option('future.no_silent_downcasting', True)`\n",
      "  df.replace({'sex':{'male':0,'female':1}}, inplace=True)\n",
      "C:\\Users\\pc\\AppData\\Local\\Temp\\ipykernel_10924\\1825765182.py:5: FutureWarning: Downcasting behavior in `replace` is deprecated and will be removed in a future version. To retain the old behavior, explicitly call `result.infer_objects(copy=False)`. To opt-in to the future behavior, set `pd.set_option('future.no_silent_downcasting', True)`\n",
      "  df.replace({'smoker':{'yes':0,'no':1}}, inplace=True)\n",
      "C:\\Users\\pc\\AppData\\Local\\Temp\\ipykernel_10924\\1825765182.py:7: FutureWarning: Downcasting behavior in `replace` is deprecated and will be removed in a future version. To retain the old behavior, explicitly call `result.infer_objects(copy=False)`. To opt-in to the future behavior, set `pd.set_option('future.no_silent_downcasting', True)`\n",
      "  df.replace({'region':{'southeast':0,'southwest':1,'northeast':2,'northwest':3}}, inplace=True)\n"
     ]
    }
   ],
   "source": [
    "df=pd.read_csv(\"insurance.csv\")\n",
    "# encoding sex column\n",
    "df.replace({'sex':{'male':0,'female':1}}, inplace=True)\n",
    "3 # encoding 'smoker' column\n",
    "df.replace({'smoker':{'yes':0,'no':1}}, inplace=True)\n",
    "# encoding 'region' column\n",
    "df.replace({'region':{'southeast':0,'southwest':1,'northeast':2,'northwest':3}}, inplace=True)"
   ]
  },
  {
   "cell_type": "code",
   "execution_count": 12,
   "id": "3c1b730b-ba3b-4735-a0c3-80486557a28c",
   "metadata": {},
   "outputs": [],
   "source": [
    "x_train=df.drop([\"charges\"],axis=1).values\n",
    "y_train=df[\"charges\"].values\n",
    "x_norm=StandardScaler().fit_transform(x_train)\n",
    "x_norm,x_test,y_train,y_test=train_test_split(x_train,y_train,test_size=0.2,random_state=41)"
   ]
  },
  {
   "cell_type": "code",
   "execution_count": 13,
   "id": "ae01c8de-5d6e-4591-a72d-a877ddd2a288",
   "metadata": {},
   "outputs": [
    {
     "name": "stdout",
     "output_type": "stream",
     "text": [
      "XGB\n",
      "R squared Error :  80.40768770125537\n",
      "4190.7607 => 4076.497\n",
      "11266.01 => 12224.35085\n",
      "4616.943 => 3857.75925\n",
      "5395.5225 => 6571.02435\n",
      "2676.6375 => 2927.0647\n",
      "10596.507 => 9290.1395\n",
      "35214.613 => 36397.576\n",
      "17737.068 => 26467.09737\n",
      "6137.4854 => 6940.90985\n",
      "4192.337 => 3443.064\n",
      "35434.375 => 36021.0112\n",
      "13540.399 => 11512.405\n",
      "4852.427 => 3353.4703\n",
      "34750.703 => 34838.873\n",
      "1198.5248 => 2026.9741\n",
      "11887.332 => 9140.951\n",
      "16931.627 => 13822.803\n",
      "6831.7056 => 5630.45785\n",
      "14959.649 => 13112.6048\n",
      "23920.912 => 24873.3849\n",
      "random forest\n",
      "R squared Error :  81.02169149859749\n",
      "4638.454000100004 => 4076.497\n",
      "12011.065433000005 => 12224.35085\n",
      "4338.213932299997 => 3857.75925\n",
      "6667.128161600002 => 6571.02435\n",
      "3401.9697631999998 => 2927.0647\n",
      "9165.840696000012 => 9290.1395\n",
      "35611.50979140004 => 36397.576\n",
      "14170.251743500003 => 26467.09737\n",
      "6913.312519499999 => 6940.90985\n",
      "5511.4515379999975 => 3443.064\n",
      "35666.86911920003 => 36021.0112\n",
      "14848.774102800004 => 11512.405\n",
      "3424.4028739999962 => 3353.4703\n",
      "34789.417302099995 => 34838.873\n",
      "1888.820339999999 => 2026.9741\n",
      "13819.258782499996 => 9140.951\n",
      "14321.287604799996 => 13822.803\n",
      "6931.331103200003 => 5630.45785\n",
      "17388.00635670001 => 13112.6048\n",
      "24380.8043875 => 24873.3849\n"
     ]
    }
   ],
   "source": [
    "#XGB\n",
    "model_xgb=XGBRegressor()\n",
    "model_xgb.fit(x_norm,y_train)\n",
    "y_pred=model_xgb.predict(x_test)\n",
    "error_score=r2_score(y_test,y_pred)\n",
    "print(\"XGB\")\n",
    "print(\"R squared Error : \", error_score*100)\n",
    "for i in range(20):\n",
    "    print(y_pred[i],\"=>\",y_test[i])\n",
    "\n",
    "\n",
    "#random forest\n",
    "randomF=RandomForestRegressor()\n",
    "randomF.fit(x_norm,y_train)\n",
    "y_pred=randomF.predict(x_test)\n",
    "error_score=r2_score(y_test,y_pred)\n",
    "print(\"random forest\")\n",
    "print(\"R squared Error : \", error_score*100)\n",
    "for i in range(20):\n",
    "    print(y_pred[i],\"=>\",y_test[i])"
   ]
  },
  {
   "cell_type": "code",
   "execution_count": 14,
   "id": "c776943d-90f3-44e7-a4a9-48288a1327b2",
   "metadata": {},
   "outputs": [
    {
     "name": "stdout",
     "output_type": "stream",
     "text": [
      "(6,)\n",
      "[3754.9735205]\n",
      "The insurance cost is USD  3754.9735205000056\n"
     ]
    }
   ],
   "source": [
    "input_data = (31,1,25.74,0,1,0)\n",
    "\n",
    "# changing input_data to a numpy array\n",
    "input_data_as_numpy_array = np.asarray(input_data)\n",
    "print(input_data_as_numpy_array.shape)\n",
    "# reshape the array\n",
    "input_data_reshaped = input_data_as_numpy_array.reshape(1,-1)\n",
    "\n",
    "prediction = randomF.predict(input_data_reshaped)\n",
    "print(prediction)\n",
    "\n",
    "print('The insurance cost is USD ', prediction[0])"
   ]
  },
  {
   "cell_type": "code",
   "execution_count": 15,
   "id": "d29a7b30-dba7-423c-9a04-787f0db06347",
   "metadata": {},
   "outputs": [],
   "source": [
    "# without norm\n",
    "#  80.40768770125537\n",
    "# 80.90326235333202\n",
    "# with norm\n",
    "# 80.40768770125537\n",
    "# 80.47685324843896"
   ]
  }
 ],
 "metadata": {
  "kernelspec": {
   "display_name": "Python 3 (ipykernel)",
   "language": "python",
   "name": "python3"
  },
  "language_info": {
   "codemirror_mode": {
    "name": "ipython",
    "version": 3
   },
   "file_extension": ".py",
   "mimetype": "text/x-python",
   "name": "python",
   "nbconvert_exporter": "python",
   "pygments_lexer": "ipython3",
   "version": "3.12.4"
  }
 },
 "nbformat": 4,
 "nbformat_minor": 5
}
