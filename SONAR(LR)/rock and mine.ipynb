{
 "cells": [
  {
   "cell_type": "code",
   "execution_count": 11,
   "id": "e3b8adfa-c496-4a7b-b163-3562049595e0",
   "metadata": {},
   "outputs": [],
   "source": [
    "import numpy as np\n",
    "import pandas as pd\n",
    "from sklearn.linear_model import LogisticRegression\n",
    "from sklearn.preprocessing import StandardScaler\n",
    "from sklearn.model_selection import train_test_split\n",
    "from sklearn.metrics import precision_score,recall_score,f1_score,accuracy_score"
   ]
  },
  {
   "cell_type": "code",
   "execution_count": 12,
   "id": "4b911ce7-2687-4bd3-a4e3-c2e2ec7e8ec4",
   "metadata": {},
   "outputs": [
    {
     "name": "stdout",
     "output_type": "stream",
     "text": [
      "[0 0 0 0 0 0 0 0 0 0 0 0 0 0 0 0 0 0 0 0 0 0 0 0 0 0 0 0 0 0 0 0 0 0 0 0 0\n",
      " 0 0 0 0 0 0 0 0 0 0 0 0 0 0 0 0 0 0 0 0 0 0 0 0 0 0 0 0 0 0 0 0 0 0 0 0 0\n",
      " 0 0 0 0 0 0 0 0 0 0 0 0 0 0 0 0 0 0 0 0 0 0 1 1 1 1 1 1 1 1 1 1 1 1 1 1 1\n",
      " 1 1 1 1 1 1 1 1 1 1 1 1 1 1 1 1 1 1 1 1 1 1 1 1 1 1 1 1 1 1 1 1 1 1 1 1 1\n",
      " 1 1 1 1 1 1 1 1 1 1 1 1 1 1 1 1 1 1 1 1 1 1 1 1 1 1 1 1 1 1 1 1 1 1 1 1 1\n",
      " 1 1 1 1 1 1 1 1 1 1 1 1 1 1 1 1 1 1 1 1 1 1]\n"
     ]
    }
   ],
   "source": [
    "df=pd.read_csv(\"./Copy of sonar data.csv\")\n",
    "df.isnull().sum()\n",
    "df=df.dropna(how='any')\n",
    "x_train=np.array(df.iloc[:,:60])\n",
    "y_train=np.array(df.iloc[:,60])\n",
    "y_train = np.where(y_train == 'R', 0, 1)\n",
    "print(y_train)"
   ]
  },
  {
   "cell_type": "code",
   "execution_count": 13,
   "id": "9371ee47-75a3-4ec3-af63-e403110fe14a",
   "metadata": {},
   "outputs": [],
   "source": [
    "# splitting data and normalizing it\n",
    "normlize= StandardScaler()\n",
    "x_norm=normlize.fit_transform(x_train)\n",
    "x_norm,x_test,y_train,y_test=train_test_split(x_norm,y_train,test_size=0.2,random_state=40)"
   ]
  },
  {
   "cell_type": "code",
   "execution_count": 14,
   "id": "2fd3d404-9ff1-43d9-a70c-176f2e0d9590",
   "metadata": {},
   "outputs": [
    {
     "name": "stdout",
     "output_type": "stream",
     "text": [
      "y_pred: 0 => target: 0\n",
      "y_pred: 0 => target: 0\n",
      "y_pred: 1 => target: 0\n",
      "y_pred: 0 => target: 0\n",
      "y_pred: 1 => target: 1\n",
      "y_pred: 1 => target: 1\n",
      "y_pred: 0 => target: 1\n",
      "y_pred: 1 => target: 1\n",
      "y_pred: 1 => target: 1\n",
      "y_pred: 0 => target: 0\n",
      "accuracy:0.7619047619047619\n",
      "precision:0.7777777777777778\n",
      "recall:0.84\n",
      "f1:0.8076923076923077\n"
     ]
    }
   ],
   "source": [
    "#train model\n",
    "model =LogisticRegression()\n",
    "model.fit(x_norm,y_train)\n",
    "y_pred=model.predict(x_test)\n",
    "for i in range(10):\n",
    "    print(\"y_pred:\",y_pred[i],\"=> target:\",y_test[i])\n",
    "accuracy=accuracy_score(y_test,y_pred)\n",
    "precision=precision_score(y_test,y_pred)\n",
    "recall=recall_score(y_test,y_pred)\n",
    "f1=f1_score(y_test,y_pred)\n",
    "print(f\"accuracy:{accuracy}\")\n",
    "print(f\"precision:{precision}\")\n",
    "print(f\"recall:{recall}\")\n",
    "print(f\"f1:{f1}\")"
   ]
  },
  {
   "cell_type": "code",
   "execution_count": 15,
   "id": "7a1e294e-7908-436d-8d2b-85af35d615ec",
   "metadata": {},
   "outputs": [
    {
     "name": "stdout",
     "output_type": "stream",
     "text": [
      "[1]\n",
      "The object is a mine\n"
     ]
    }
   ],
   "source": [
    "input_data = (0.0307,0.0523,0.0653,0.0521,0.0611,0.0577,0.0665,0.0664,0.1460,0.2792,0.3877,0.4992,0.4981,0.4972,0.5607,0.7339,0.8230,0.9173,0.9975,0.9911,0.8240,0.6498,0.5980,0.4862,0.3150,0.1543,0.0989,0.0284,0.1008,0.2636,0.2694,0.2930,0.2925,0.3998,0.3660,0.3172,0.4609,0.4374,0.1820,0.3376,0.6202,0.4448,0.1863,0.1420,0.0589,0.0576,0.0672,0.0269,0.0245,0.0190,0.0063,0.0321,0.0189,0.0137,0.0277,0.0152,0.0052,0.0121,0.0124,0.0055)\n",
    "\n",
    "# changing the input_data to a numpy array\n",
    "input_data_as_numpy_array = np.asarray(input_data)\n",
    "\n",
    "# reshape the np array as we are predicting for one instance\n",
    "input_data_reshaped = input_data_as_numpy_array.reshape(1,-1)\n",
    "\n",
    "prediction = model.predict(input_data_reshaped)\n",
    "print(prediction)\n",
    "\n",
    "if (prediction[0]=='R'):\n",
    "  print('The object is a Rock')\n",
    "else:\n",
    "  print('The object is a mine')"
   ]
  }
 ],
 "metadata": {
  "kernelspec": {
   "display_name": "Python 3 (ipykernel)",
   "language": "python",
   "name": "python3"
  },
  "language_info": {
   "codemirror_mode": {
    "name": "ipython",
    "version": 3
   },
   "file_extension": ".py",
   "mimetype": "text/x-python",
   "name": "python",
   "nbconvert_exporter": "python",
   "pygments_lexer": "ipython3",
   "version": "3.12.4"
  }
 },
 "nbformat": 4,
 "nbformat_minor": 5
}
