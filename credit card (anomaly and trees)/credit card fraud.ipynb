{
 "cells": [
  {
   "cell_type": "code",
   "execution_count": 221,
   "id": "b1163ccc-6343-48c9-b696-acf820aeb119",
   "metadata": {},
   "outputs": [],
   "source": [
    "import numpy as np\n",
    "import pandas as pd\n",
    "import matplotlib.pyplot as plt \n",
    "from sklearn.model_selection import train_test_split\n",
    "from sklearn.metrics import f1_score,accuracy_score\n",
    "import seaborn as sns"
   ]
  },
  {
   "cell_type": "code",
   "execution_count": 222,
   "id": "7021d081-2532-46df-8b54-9ba0a6d6750d",
   "metadata": {},
   "outputs": [],
   "source": [
    "df=pd.read_csv('creditcard.csv')\n",
    "x_train = df.drop(columns='Class', axis=1).values\n",
    "y_train = df['Class'].values"
   ]
  },
  {
   "cell_type": "code",
   "execution_count": 223,
   "id": "281e5b4c-50f6-45e0-ab9d-ae640f2265cb",
   "metadata": {},
   "outputs": [
    {
     "data": {
      "text/plain": [
       "(array([1.5240e+03, 5.0190e+04, 1.8203e+05, 4.3107e+04, 7.5010e+03,\n",
       "        3.1900e+02, 8.3000e+01, 4.5000e+01, 4.0000e+00, 4.0000e+00]),\n",
       " array([-5.6831712 , -3.42731967, -1.17146815,  1.08438337,  3.34023489,\n",
       "         5.59608642,  7.85193794, 10.10778946, 12.36364099, 14.61949251,\n",
       "        16.87534403]),\n",
       " <BarContainer object of 10 artists>)"
      ]
     },
     "execution_count": 223,
     "metadata": {},
     "output_type": "execute_result"
    },
    {
     "data": {
      "image/png": "[encoded data removed]",
      "text/plain": [
       "<Figure size 640x480 with 1 Axes>"
      ]
     },
     "metadata": {},
     "output_type": "display_data"
    }
   ],
   "source": [
    "plt.hist(x_train[:,4])"
   ]
  },
  {
   "cell_type": "code",
   "execution_count": 224,
   "id": "4853d0c1-868a-44ac-8811-93a6fd318854",
   "metadata": {},
   "outputs": [
    {
     "name": "stdout",
     "output_type": "stream",
     "text": [
      "Time     -0.012323\n",
      "V1       -0.101347\n",
      "V2        0.091289\n",
      "V3       -0.192961\n",
      "V4        0.133447\n",
      "V5       -0.094974\n",
      "V6       -0.043643\n",
      "V7       -0.187257\n",
      "V8        0.019875\n",
      "V9       -0.097733\n",
      "V10      -0.216883\n",
      "V11       0.154876\n",
      "V12      -0.260593\n",
      "V13      -0.004570\n",
      "V14      -0.302544\n",
      "V15      -0.004223\n",
      "V16      -0.196539\n",
      "V17      -0.326481\n",
      "V18      -0.111485\n",
      "V19       0.034783\n",
      "V20       0.020090\n",
      "V21       0.040413\n",
      "V22       0.000805\n",
      "V23      -0.002685\n",
      "V24      -0.007221\n",
      "V25       0.003308\n",
      "V26       0.004455\n",
      "V27       0.017580\n",
      "V28       0.009536\n",
      "Amount    0.005632\n",
      "Class     1.000000\n",
      "Name: Class, dtype: float64\n"
     ]
    }
   ],
   "source": [
    "correlation = df.corr()\n",
    "# constructing a heatmap to understand the correlation between the columns\n",
    "# plt.figure(figsize=(4,4))\n",
    "# sns.heatmap(correlation, cbar=True, square=True, fmt = '.1f', annot = True, annot_kws={'size':8}, cmap = 'Blues')\n",
    "print(correlation['Class'])"
   ]
  },
  {
   "cell_type": "code",
   "execution_count": 225,
   "id": "0967e591-aed9-4587-bd58-2a3d885d2974",
   "metadata": {},
   "outputs": [],
   "source": [
    "x_train,x_test,y_train,y_test=train_test_split(x_train,y_train,test_size=0.2,random_state=1)"
   ]
  },
  {
   "cell_type": "code",
   "execution_count": 226,
   "id": "aadb2cf7-c3eb-4f4f-a47a-ccd7d354ec81",
   "metadata": {},
   "outputs": [],
   "source": [
    "def multivariate_gaussian(X, mu, sigma2):\n",
    "    # Number of features (n)\n",
    "    n = len(mu)\n",
    "    # Ensure sigma2 is in the right shape\n",
    "    sigma2 = sigma2.reshape(1, n)\n",
    "    # Standard deviation (sigma)\n",
    "    sigma = np.sqrt(sigma2)\n",
    "    # Compute the normalization term (same for all rows)\n",
    "    norm_factor = 1 / np.sqrt(2 * np.pi * sigma2)\n",
    "    # Compute the exponent for each feature\n",
    "    exponent = np.exp(- (X - mu)**2 / (2 * sigma2))\n",
    "    # Combine normalization factor and exponent for each feature\n",
    "    p_feature = norm_factor * exponent\n",
    "    # Compute the product of the probabilities across all features for each example\n",
    "    p = np.prod(p_feature, axis=1)\n",
    "    return p"
   ]
  },
  {
   "cell_type": "code",
   "execution_count": 227,
   "id": "08f5de06-d3b7-4d86-a6a0-cdcab3ccc6e7",
   "metadata": {},
   "outputs": [],
   "source": [
    "def estimate_gaussion(x):\n",
    "    m=x.shape[0]\n",
    "    mu=np.zeros(x.shape[1])\n",
    "    vari=np.zeros(x.shape[1])\n",
    "    mu=np.sum(x,axis=0)\n",
    "    vari=np.sum((x-mu)**2,axis=0)\n",
    "    mu/=m\n",
    "    vari/=m\n",
    "    return mu,vari"
   ]
  },
  {
   "cell_type": "code",
   "execution_count": 228,
   "id": "6b130bf6-d9dc-4efb-b884-9a995f3eb59c",
   "metadata": {},
   "outputs": [],
   "source": [
    "def select_threshold(y_cv,p_val):\n",
    "    best_epsilon=0\n",
    "    best_f1=0\n",
    "    f1=0\n",
    "    step_size = (max(p_val)-min(p_val))/1000\n",
    "    for epsilon in np.arange(min(p_val),max(p_val),step_size):\n",
    "        pred=(p_val<epsilon)\n",
    "        f1=f1_score(y_cv,pred)\n",
    "        if f1>best_f1:\n",
    "            best_f1=f1\n",
    "            best_epsilon=epsilon\n",
    "    return best_epsilon,best_f1"
   ]
  },
  {
   "cell_type": "code",
   "execution_count": 229,
   "id": "04155c2f-9871-4cab-a5e2-094242ec9437",
   "metadata": {},
   "outputs": [
    {
     "name": "stdout",
     "output_type": "stream",
     "text": [
      "accuracy:99.6804887468839\n",
      "Best epsilon found using cross-validation: 3.894823e-92\n",
      "Best F1 on Cross Validation Set:  0.149533\n",
      "# Anomalies found: 519\n"
     ]
    }
   ],
   "source": [
    "# Estimate the Gaussian parameters\n",
    "mu, var = estimate_gaussion(x_train)\n",
    "p_train=multivariate_gaussian(x_train,mu,var)\n",
    "p_cv=multivariate_gaussian(x_test,mu,var)\n",
    "#finding the optimal epsilon and f1\n",
    "epsilon,f1=select_threshold(y_test,p_cv)\n",
    "p_train_=(p_train<epsilon)\n",
    "p_cv_=(p_cv<epsilon)\n",
    "accuracy=accuracy_score(y_test,p_cv_)\n",
    "print(f\"accuracy:{accuracy*100}\")\n",
    "print('Best epsilon found using cross-validation: %e'% epsilon)\n",
    "print('Best F1 on Cross Validation Set:  %f'% f1)\n",
    "print('# Anomalies found: %d'% sum(p_train < epsilon))"
   ]
  }
 ],
 "metadata": {
  "kernelspec": {
   "display_name": "Python 3 (ipykernel)",
   "language": "python",
   "name": "python3"
  },
  "language_info": {
   "codemirror_mode": {
    "name": "ipython",
    "version": 3
   },
   "file_extension": ".py",
   "mimetype": "text/x-python",
   "name": "python",
   "nbconvert_exporter": "python",
   "pygments_lexer": "ipython3",
   "version": "3.12.4"
  }
 },
 "nbformat": 4,
 "nbformat_minor": 5
}
