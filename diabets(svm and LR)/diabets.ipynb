{
 "cells": [
  {
   "cell_type": "code",
   "execution_count": 15,
   "id": "65d3aa73-eb1a-4750-b4ab-0a036fcb344e",
   "metadata": {},
   "outputs": [],
   "source": [
    "import numpy as np\n",
    "import pandas as pd\n",
    "from sklearn.linear_model import LogisticRegression\n",
    "from sklearn.metrics import accuracy_score,f1_score,recall_score,precision_score\n",
    "from sklearn.preprocessing import StandardScaler\n",
    "from sklearn.model_selection import train_test_split\n",
    "from sklearn.svm import SVC"
   ]
  },
  {
   "cell_type": "code",
   "execution_count": 16,
   "id": "ca7fae32-5488-477b-90ab-627f2889ea25",
   "metadata": {},
   "outputs": [],
   "source": [
    "df=pd.read_csv('diabetes.csv')\n",
    "# print(df.head(5).info())\n",
    "df.isnull().sum()\n",
    "df=df.dropna(how='any')\n",
    "x_trian=np.array(df.iloc[:,:8])\n",
    "y_train=np.array(df.iloc[:,8])\n",
    "# print(x_trian)\n",
    "# print(y_train)"
   ]
  },
  {
   "cell_type": "code",
   "execution_count": 17,
   "id": "cc5120d9-eeff-4998-bdee-ce24906b3536",
   "metadata": {},
   "outputs": [],
   "source": [
    "# split and normlize\n",
    "normlize=StandardScaler()\n",
    "x_norm=normlize.fit_transform(x_trian)\n",
    "x_norm,x_test,y_train,y_test=train_test_split(x_norm,y_train,test_size=0.2,random_state=41)"
   ]
  },
  {
   "cell_type": "code",
   "execution_count": 18,
   "id": "e805a3a2-18f6-4d71-8e5e-08a61ec1b566",
   "metadata": {},
   "outputs": [
    {
     "name": "stdout",
     "output_type": "stream",
     "text": [
      "y_pred: 0 => target: 0\n",
      "y_pred: 0 => target: 0\n",
      "y_pred: 1 => target: 0\n",
      "y_pred: 1 => target: 0\n",
      "y_pred: 0 => target: 0\n",
      "y_pred: 1 => target: 1\n",
      "y_pred: 0 => target: 0\n",
      "y_pred: 0 => target: 1\n",
      "y_pred: 0 => target: 0\n",
      "y_pred: 0 => target: 0\n",
      "y_pred: 0 => target: 0\n",
      "y_pred: 0 => target: 0\n",
      "y_pred: 0 => target: 0\n",
      "y_pred: 0 => target: 0\n",
      "y_pred: 0 => target: 1\n",
      "y_pred: 0 => target: 0\n",
      "y_pred: 0 => target: 0\n",
      "y_pred: 0 => target: 0\n",
      "y_pred: 0 => target: 1\n",
      "y_pred: 0 => target: 0\n",
      "y_pred: 1 => target: 1\n",
      "y_pred: 0 => target: 0\n",
      "y_pred: 0 => target: 1\n",
      "y_pred: 0 => target: 0\n",
      "y_pred: 0 => target: 0\n",
      "y_pred: 0 => target: 0\n",
      "y_pred: 0 => target: 0\n",
      "y_pred: 0 => target: 0\n",
      "y_pred: 1 => target: 1\n",
      "y_pred: 0 => target: 0\n",
      "accuracy:77.27272727272727\n",
      "precision:0.7631578947368421\n",
      "recall:0.5272727272727272\n",
      "f1:0.6236559139784946\n"
     ]
    }
   ],
   "source": [
    "cvm_model=SVC(kernel='rbf', gamma='auto')\n",
    "cvm_model.fit(x_norm,y_train)\n",
    "y_pred=cvm_model.predict(x_test)\n",
    "# model =LogisticRegression()\n",
    "# model.fit(x_norm,y_train)\n",
    "# y_pred=model.predict(x_test)\n",
    "for i in range(30):\n",
    "    print(\"y_pred:\",y_pred[i],\"=> target:\",y_test[i])\n",
    "accuracy=accuracy_score(y_test,y_pred)\n",
    "precision=precision_score(y_test,y_pred)\n",
    "recall=recall_score(y_test,y_pred)\n",
    "f1=f1_score(y_test,y_pred)\n",
    "print(f\"accuracy:{accuracy*100}\")\n",
    "print(f\"precision:{precision}\")\n",
    "print(f\"recall:{recall}\")\n",
    "print(f\"f1:{f1}\")"
   ]
  },
  {
   "cell_type": "code",
   "execution_count": 19,
   "id": "14074b12-d5d8-4455-88e8-d44d132c34f6",
   "metadata": {},
   "outputs": [
    {
     "name": "stdout",
     "output_type": "stream",
     "text": [
      "[[ 0.3429808   1.41167241  0.14964075 -0.09637905  0.82661621 -0.78595734\n",
      "   0.34768723  1.51108316]]\n",
      "[1]\n",
      "The person is diabetic\n"
     ]
    }
   ],
   "source": [
    "input_data = (5,166,72,19,175,25.8,0.587,51)\n",
    "\n",
    "# changing the input_data to numpy array\n",
    "input_data_as_numpy_array = np.asarray(input_data)\n",
    "\n",
    "# reshape the array as we are predicting for one instance\n",
    "input_data_reshaped = input_data_as_numpy_array.reshape(1,-1)\n",
    "\n",
    "# standardize the input data\n",
    "std_data = normlize.transform(input_data_reshaped)\n",
    "print(std_data)\n",
    "\n",
    "prediction = cvm_model.predict(std_data)\n",
    "print(prediction)\n",
    "\n",
    "if (prediction[0] == 0):\n",
    "  print('The person is not diabetic')\n",
    "else:\n",
    "  print('The person is diabetic')"
   ]
  },
  {
   "cell_type": "code",
   "execution_count": 20,
   "id": "408ba2f6-1913-4e9a-9057-1e2e369b620c",
   "metadata": {},
   "outputs": [],
   "source": [
    "#svm\n",
    "# accuracy:77.27272727272727\n",
    "# precision:0.7631578947368421\n",
    "# recall:0.5272727272727272\n",
    "# f1:0.6236559139784946\n",
    "#LR\n",
    "# accuracy:77.92207792207793\n",
    "# precision:0.7692307692307693\n",
    "# recall:0.5454545454545454\n",
    "# f1:0.6382978723404256"
   ]
  },
  {
   "cell_type": "code",
   "execution_count": 21,
   "id": "e081e321-d24f-4a19-b61f-3b1c414764ea",
   "metadata": {},
   "outputs": [],
   "source": [
    "import pickle"
   ]
  },
  {
   "cell_type": "code",
   "execution_count": 22,
   "id": "f2f62b82-388e-45bb-9dd8-b5b0ccbf9b3c",
   "metadata": {},
   "outputs": [],
   "source": [
    "filename='trained_model.sav'\n",
    "pickle.dump(cvm_model,open(filename,\"wb\"))"
   ]
  },
  {
   "cell_type": "code",
   "execution_count": 23,
   "id": "85664d16-b614-434e-ae82-8f79e920a5fc",
   "metadata": {},
   "outputs": [],
   "source": [
    "loaded_model=pickle.load(open(filename,\"rb\"))"
   ]
  }
 ],
 "metadata": {
  "kernelspec": {
   "display_name": "Python 3 (ipykernel)",
   "language": "python",
   "name": "python3"
  },
  "language_info": {
   "codemirror_mode": {
    "name": "ipython",
    "version": 3
   },
   "file_extension": ".py",
   "mimetype": "text/x-python",
   "name": "python",
   "nbconvert_exporter": "python",
   "pygments_lexer": "ipython3",
   "version": "3.12.4"
  }
 },
 "nbformat": 4,
 "nbformat_minor": 5
}
