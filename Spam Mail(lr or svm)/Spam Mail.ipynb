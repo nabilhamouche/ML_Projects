{
 "cells": [
  {
   "cell_type": "code",
   "execution_count": 212,
   "id": "791ad737-e650-4dc6-8c42-b2c18d0b8f86",
   "metadata": {},
   "outputs": [],
   "source": [
    "import numpy as np\n",
    "import pandas as pd\n",
    "import matplotlib.pyplot as plt\n",
    "from sklearn.linear_model import LogisticRegression\n",
    "from sklearn.svm import SVC\n",
    "from sklearn.model_selection import train_test_split\n",
    "from sklearn.preprocessing import StandardScaler,LabelEncoder\n",
    "from sklearn.metrics import f1_score,accuracy_score,recall_score,precision_score\n",
    "from sklearn.feature_extraction.text import TfidfVectorizer\n",
    "from nltk.corpus import stopwords"
   ]
  },
  {
   "cell_type": "code",
   "execution_count": 213,
   "id": "8d448313-05f6-48a7-97b3-aef1e1e79d18",
   "metadata": {},
   "outputs": [
    {
     "name": "stdout",
     "output_type": "stream",
     "text": [
      "<class 'pandas.core.frame.DataFrame'>\n",
      "RangeIndex: 5572 entries, 0 to 5571\n",
      "Data columns (total 2 columns):\n",
      " #   Column    Non-Null Count  Dtype \n",
      "---  ------    --------------  ----- \n",
      " 0   Category  5572 non-null   object\n",
      " 1   Message   5572 non-null   object\n",
      "dtypes: object(2)\n",
      "memory usage: 87.2+ KB\n"
     ]
    }
   ],
   "source": [
    "df=pd.read_csv(\"mail_data.csv\")\n",
    "df.info()"
   ]
  },
  {
   "cell_type": "code",
   "execution_count": 214,
   "id": "4752a426-4fff-429f-a054-352c073d9b22",
   "metadata": {},
   "outputs": [
    {
     "data": {
      "text/plain": [
       "Category    0\n",
       "Message     0\n",
       "dtype: int64"
      ]
     },
     "execution_count": 214,
     "metadata": {},
     "output_type": "execute_result"
    }
   ],
   "source": [
    "df.isnull().sum()"
   ]
  },
  {
   "cell_type": "code",
   "execution_count": 215,
   "id": "c566fbec-db4c-4b85-b9e4-2abc3b599556",
   "metadata": {},
   "outputs": [
    {
     "data": {
      "text/plain": [
       "Category\n",
       "ham     4825\n",
       "spam     747\n",
       "Name: count, dtype: int64"
      ]
     },
     "execution_count": 215,
     "metadata": {},
     "output_type": "execute_result"
    }
   ],
   "source": [
    "df['Category'].value_counts()"
   ]
  },
  {
   "cell_type": "code",
   "execution_count": 216,
   "id": "dfaa3f28-aae8-407b-85f5-0854feed150a",
   "metadata": {},
   "outputs": [
    {
     "name": "stderr",
     "output_type": "stream",
     "text": [
      "C:\\Users\\pc\\AppData\\Local\\Temp\\ipykernel_13812\\3113423120.py:1: FutureWarning: Downcasting behavior in `replace` is deprecated and will be removed in a future version. To retain the old behavior, explicitly call `result.infer_objects(copy=False)`. To opt-in to the future behavior, set `pd.set_option('future.no_silent_downcasting', True)`\n",
      "  df.replace({\"ham\":0,\"spam\":1},inplace=True)\n"
     ]
    }
   ],
   "source": [
    "df.replace({\"ham\":0,\"spam\":1},inplace=True)"
   ]
  },
  {
   "cell_type": "code",
   "execution_count": 217,
   "id": "b43a06c0-9299-4450-8d5e-6f11f9847621",
   "metadata": {},
   "outputs": [],
   "source": [
    "x_train=df['Message'].values\n",
    "y_train=df['Category'].values"
   ]
  },
  {
   "cell_type": "code",
   "execution_count": 218,
   "id": "4bb5a0e7-0b1b-4122-af5f-0b0b76a44064",
   "metadata": {},
   "outputs": [
    {
     "name": "stdout",
     "output_type": "stream",
     "text": [
      "wth\n"
     ]
    }
   ],
   "source": [
    "vectorizer=TfidfVectorizer(min_df = 1, stop_words='english', lowercase=True)\n",
    "x_train=vectorizer.fit_transform(x_train)\n",
    "words = vectorizer.get_feature_names_out()\n",
    "print(words[8320])\n",
    "# print(x_train)"
   ]
  },
  {
   "cell_type": "code",
   "execution_count": 219,
   "id": "cadae91d-c510-4ac1-98d0-7f2b5e6d595d",
   "metadata": {},
   "outputs": [],
   "source": [
    "x_norm=StandardScaler(with_mean=False).fit_transform(x_train)\n",
    "x_norm,x_test,y_train,y_test = train_test_split(x_norm, y_train, test_size = 0.2, random_state=2)"
   ]
  },
  {
   "cell_type": "code",
   "execution_count": 220,
   "id": "39386f4f-38fa-4da2-942e-f05103ee5c4a",
   "metadata": {},
   "outputs": [
    {
     "name": "stdout",
     "output_type": "stream",
     "text": [
      "CVM\n",
      "accuracy:91.12107623318386\n",
      "precision:1.0\n",
      "recall:0.37341772151898733\n",
      "f1:0.543778801843318\n",
      "logistic regression\n",
      "accuracy:95.60538116591928\n",
      "precision:1.0\n",
      "recall:0.689873417721519\n",
      "f1:0.8164794007490637\n"
     ]
    }
   ],
   "source": [
    "print(\"CVM\")\n",
    "cvm_model=SVC().fit(x_norm,y_train)\n",
    "y_pred=cvm_model.predict(x_test)\n",
    "# for i in range(30):\n",
    "#     print(f\"y_pred:,{y_pred[i]}=> target:{y_test[i]}\")\n",
    "accuracy=accuracy_score(y_test,y_pred)\n",
    "precision=precision_score(y_test,y_pred)\n",
    "recall=recall_score(y_test,y_pred)\n",
    "f1=f1_score(y_test,y_pred)\n",
    "print(f\"accuracy:{accuracy*100}\")\n",
    "print(f\"precision:{precision}\")\n",
    "print(f\"recall:{recall}\")\n",
    "print(f\"f1:{f1}\")\n",
    "# logistic regression\n",
    "print(\"logistic regression\")\n",
    "model=LogisticRegression()\n",
    "model.fit(x_norm,y_train)\n",
    "y_pred=model.predict(x_test)\n",
    "# for i in range(30):\n",
    "#     print(f\"y_pred:,{y_pred[i]}=> target:{y_test[i]}\")\n",
    "accuracy=accuracy_score(y_test,y_pred)\n",
    "precision=precision_score(y_test,y_pred)\n",
    "recall=recall_score(y_test,y_pred)\n",
    "f1=f1_score(y_test,y_pred)\n",
    "print(f\"accuracy:{accuracy*100}\")\n",
    "print(f\"precision:{precision}\")\n",
    "print(f\"recall:{recall}\")\n",
    "print(f\"f1:{f1}\")"
   ]
  },
  {
   "cell_type": "code",
   "execution_count": 221,
   "id": "e51705e2-3314-4fee-b064-ca235b293457",
   "metadata": {},
   "outputs": [
    {
     "name": "stdout",
     "output_type": "stream",
     "text": [
      "[0]\n",
      "Ham mail\n"
     ]
    }
   ],
   "source": [
    "input_mail = [\"I've been searching for the right words to thank you for this breather. I promise i wont take your help for granted and will fulfil my promise. You have been wonderful and a blessing at all times\"]\n",
    "\n",
    "# convert text to feature vectors\n",
    "input_data_features = vectorizer.transform(input_mail)\n",
    "\n",
    "# making prediction\n",
    "\n",
    "prediction = model.predict(input_data_features)\n",
    "print(prediction)\n",
    "\n",
    "\n",
    "if (prediction[0]==0):\n",
    "  print('Ham mail')\n",
    "\n",
    "else:\n",
    "  print('Spam mail')"
   ]
  },
  {
   "cell_type": "code",
   "execution_count": 222,
   "id": "cb51096f-07e1-4d5b-a69f-1d49e3eb4a23",
   "metadata": {},
   "outputs": [],
   "source": [
    "# CVM\n",
    "# accuracy:97.39910313901345\n",
    "# precision:1.0\n",
    "# recall:0.8164556962025317\n",
    "# f1:0.8989547038327527\n",
    "# logistic regression\n",
    "# accuracy:95.51569506726457\n",
    "# precision:0.990909090909091\n",
    "# recall:0.689873417721519\n",
    "# f1:0.8134328358208955\n",
    "\n",
    "# CVM\n",
    "# accuracy:91.12107623318386\n",
    "# precision:1.0\n",
    "# recall:0.37341772151898733\n",
    "# f1:0.543778801843318\n",
    "# logistic regression\n",
    "# accuracy:96.41255605381166\n",
    "# precision:0.9916666666666667\n",
    "# recall:0.7531645569620253\n",
    "# f1:0.8561151079136691"
   ]
  }
 ],
 "metadata": {
  "kernelspec": {
   "display_name": "Python 3 (ipykernel)",
   "language": "python",
   "name": "python3"
  },
  "language_info": {
   "codemirror_mode": {
    "name": "ipython",
    "version": 3
   },
   "file_extension": ".py",
   "mimetype": "text/x-python",
   "name": "python",
   "nbconvert_exporter": "python",
   "pygments_lexer": "ipython3",
   "version": "3.12.4"
  }
 },
 "nbformat": 4,
 "nbformat_minor": 5
}
