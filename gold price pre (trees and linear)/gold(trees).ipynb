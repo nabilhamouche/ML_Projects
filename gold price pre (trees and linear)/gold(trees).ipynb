{
 "cells": [
  {
   "cell_type": "code",
   "execution_count": 41,
   "id": "8d64faae-8535-48ec-9d2b-5bf4cddc8af8",
   "metadata": {},
   "outputs": [],
   "source": [
    "import numpy as np\n",
    "import pandas as pd\n",
    "import matplotlib.pyplot as plt\n",
    "from sklearn.linear_model import LinearRegression\n",
    "import seaborn as sns\n",
    "from sklearn.model_selection import train_test_split\n",
    "from sklearn.preprocessing import StandardScaler,PolynomialFeatures\n",
    "from sklearn.metrics import mean_squared_error,r2_score\n",
    "from xgboost import XGBRegressor\n",
    "from sklearn.ensemble import RandomForestRegressor"
   ]
  },
  {
   "cell_type": "code",
   "execution_count": 42,
   "id": "f3b3ec5e-18c7-447a-868d-02141e11727b",
   "metadata": {},
   "outputs": [],
   "source": [
    "df=pd.read_csv(\"./gld_price_data.csv\")\n",
    "df=df.drop([\"Date\"],axis=1)\n",
    "x_train=df.drop([\"GLD\"],axis=1).values\n",
    "y_train=df['GLD'].values\n",
    "#splitting data and normlizing \n",
    "normlize=StandardScaler()\n",
    "x_norm=normlize.fit_transform(x_train)\n",
    "x_norm,x_test,y_train,y_test=train_test_split(x_norm,y_train,test_size=0.2,random_state=41)"
   ]
  },
  {
   "cell_type": "code",
   "execution_count": 43,
   "id": "fa40f514-82cd-478a-a5a6-729b16eb2d69",
   "metadata": {},
   "outputs": [
    {
     "name": "stdout",
     "output_type": "stream",
     "text": [
      "XGB\n",
      "R squared Error :  98.99417838168125\n",
      "124.28422 => 124.239998\n",
      "127.3434 => 127.599998\n",
      "90.77612 => 93.089996\n",
      "91.669106 => 93.279999\n",
      "127.74248 => 127.440002\n",
      "108.120285 => 107.129997\n",
      "105.11563 => 103.019997\n",
      "105.9613 => 106.080002\n",
      "135.39633 => 137.240005\n",
      "134.39767 => 135.119995\n",
      "123.87337 => 124.669998\n",
      "163.01161 => 161.960007\n",
      "115.83597 => 113.529999\n",
      "124.93327 => 124.489998\n",
      "122.493935 => 124.589996\n",
      "124.11301 => 124.769997\n",
      "89.410736 => 90.080002\n",
      "124.38853 => 124.959999\n",
      "108.78076 => 110.400002\n",
      "115.1383 => 114.739998\n",
      "random forest\n",
      "R squared Error :  98.7504319693709\n",
      "124.34600059999998 => 124.239998\n",
      "127.59570025999997 => 127.599998\n",
      "90.16850072000003 => 93.089996\n",
      "92.76009866999999 => 93.279999\n",
      "127.65410055999999 => 127.440002\n",
      "107.09740119999995 => 107.129997\n",
      "104.71429949999988 => 103.019997\n",
      "107.46570003000002 => 106.080002\n",
      "135.35600167999996 => 137.240005\n",
      "135.50769962000015 => 135.119995\n",
      "124.0927996800001 => 124.669998\n",
      "160.85659872999975 => 161.960007\n",
      "114.29329888999997 => 113.529999\n",
      "124.86603820000003 => 124.489998\n",
      "124.75500165999995 => 124.589996\n",
      "124.28960004000001 => 124.769997\n",
      "89.89090113000007 => 90.080002\n",
      "124.60249907 => 124.959999\n",
      "109.17439771999996 => 110.400002\n",
      "115.56660043999993 => 114.739998\n"
     ]
    }
   ],
   "source": [
    "#XGB\n",
    "model_xgb=XGBRegressor()\n",
    "model_xgb.fit(x_norm,y_train)\n",
    "y_pred=model_xgb.predict(x_test)\n",
    "error_score=r2_score(y_test,y_pred)\n",
    "print(\"XGB\")\n",
    "print(\"R squared Error : \", error_score*100)\n",
    "for i in range(20):\n",
    "    print(y_pred[i],\"=>\",y_test[i])\n",
    "\n",
    "\n",
    "#random forest\n",
    "randomF=RandomForestRegressor()\n",
    "randomF.fit(x_norm,y_train)\n",
    "y_pred=randomF.predict(x_test)\n",
    "error_score=r2_score(y_test,y_pred)\n",
    "print(\"random forest\")\n",
    "print(\"R squared Error : \", error_score*100)\n",
    "for i in range(20):\n",
    "    print(y_pred[i],\"=>\",y_test[i])"
   ]
  },
  {
   "cell_type": "code",
   "execution_count": 44,
   "id": "bb164396-3138-435f-9598-ebe79516d804",
   "metadata": {},
   "outputs": [],
   "source": [
    "# XGB without norm\n",
    "# R squared Error :  98.99417838168125\n",
    "# random forest without norm\n",
    "# R squared Error :  98.80617130603326\n",
    "\n",
    "# XGB with norm\n",
    "# R squared Error :  98.99417838168125\n",
    "# random forest with norm\n",
    "# R squared Error :  98.5533909491006 it changes\n"
   ]
  }
 ],
 "metadata": {
  "kernelspec": {
   "display_name": "Python 3 (ipykernel)",
   "language": "python",
   "name": "python3"
  },
  "language_info": {
   "codemirror_mode": {
    "name": "ipython",
    "version": 3
   },
   "file_extension": ".py",
   "mimetype": "text/x-python",
   "name": "python",
   "nbconvert_exporter": "python",
   "pygments_lexer": "ipython3",
   "version": "3.12.4"
  }
 },
 "nbformat": 4,
 "nbformat_minor": 5
}
